{
 "cells": [
  {
   "cell_type": "code",
   "execution_count": 3,
   "id": "7ba52429-396e-4545-881b-11c3cbc99615",
   "metadata": {},
   "outputs": [
    {
     "name": "stdout",
     "output_type": "stream",
     "text": [
      "done\n"
     ]
    }
   ],
   "source": [
    "#Importing required libraries\n",
    "\n",
    "from bs4 import BeautifulSoup\n",
    "import requests\n",
    "import time\n",
    "import datetime\n",
    "\n",
    "import smtplib\n",
    "\n",
    "print(\"done\")"
   ]
  },
  {
   "cell_type": "code",
   "execution_count": 5,
   "id": "90d70d1a-dec0-4b7f-bb53-e776d1e8bda4",
   "metadata": {},
   "outputs": [
    {
     "name": "stdout",
     "output_type": "stream",
     "text": [
      "done\n"
     ]
    }
   ],
   "source": [
    "#Getting HTML data from website\n",
    "\n",
    "URL = 'https://www.trendyol.com/coffe/lux-coffe-premium-p-822138351?boutiqueId=61&merchantId=861428'\n",
    "\n",
    "headers = {\"User-Agent\": \"Mozilla/5.0 (Windows NT 10.0; Win64; x64) AppleWebKit/537.36 (KHTML, like Gecko) Chrome/131.0.0.0 Safari/537.36 Edg/131.0.0.0\", \"Accept-Encoding\":\"gzip, deflate\", \"Accept\":\"text/html,application/xhtml+xml,application/xml;q=0.9,*/*;q=0.8\", \"DNT\":\"1\",\"Connection\":\"close\", \"Upgrade-Insecure-Requests\":\"1\"}\n",
    "\n",
    "page = requests.get(URL, headers=headers)\n",
    "\n",
    "object1 = BeautifulSoup(page.content, 'html.parser')\n",
    "\n",
    "object2 = BeautifulSoup(object1.prettify(), \"html.parser\")\n",
    "\n",
    "print(\"done\")"
   ]
  },
  {
   "cell_type": "code",
   "execution_count": 25,
   "id": "0c3daf1a-a119-47be-a6a5-81fae4e03e76",
   "metadata": {},
   "outputs": [
    {
     "name": "stdout",
     "output_type": "stream",
     "text": [
      "\n",
      "                   LUX COFFE PREMIUM\n",
      "                  \n",
      "\n",
      "                    1.799 TL\n",
      "                   \n"
     ]
    }
   ],
   "source": [
    "#Scraping title and price information\n",
    "\n",
    "name = object2.find(id='product-detail-app')\n",
    "\n",
    "title=name.find(class_='pr-new-br')\n",
    "\n",
    "title=title.find_all('span')[1].text\n",
    "\n",
    "price=name.find(class_='prc-dsc').text\n",
    "\n",
    "print(title)\n",
    "print(price)\n"
   ]
  },
  {
   "cell_type": "code",
   "execution_count": 27,
   "id": "5eb5657d-5d60-4c6b-9d84-e2074c946af3",
   "metadata": {},
   "outputs": [
    {
     "name": "stdout",
     "output_type": "stream",
     "text": [
      "LUX COFFE PREMIUM\n",
      "1.799 TL\n"
     ]
    }
   ],
   "source": [
    "# Data cleanup\n",
    "\n",
    "title = title.strip()\n",
    "price = price.strip()\n",
    "\n",
    "print(title)\n",
    "print(price)\n",
    "\n"
   ]
  },
  {
   "cell_type": "code",
   "execution_count": null,
   "id": "faad25c9-755e-4c20-9267-815e967ab04d",
   "metadata": {},
   "outputs": [],
   "source": []
  },
  {
   "cell_type": "code",
   "execution_count": 29,
   "id": "879745ac-62bb-4fc3-a914-641996b13c0e",
   "metadata": {},
   "outputs": [
    {
     "name": "stdout",
     "output_type": "stream",
     "text": [
      "2024-11-27\n"
     ]
    }
   ],
   "source": [
    "# Creating a Timestamp to track when data was collected\n",
    "\n",
    "import datetime\n",
    "\n",
    "today = datetime.date.today()\n",
    "\n",
    "print(today)"
   ]
  },
  {
   "cell_type": "code",
   "execution_count": 35,
   "id": "251950f6-7c01-4acc-ba97-bcb500378288",
   "metadata": {},
   "outputs": [],
   "source": [
    "# Creating CSV and writing headers and data into the file\n",
    "\n",
    "import csv \n",
    "\n",
    "header = ['Title', 'Price']\n",
    "data = [title, price]\n",
    "\n",
    "\n",
    "with open('Price.csv', 'w', newline='', encoding='UTF8') as f:\n",
    "    writer = csv.writer(f)\n",
    "    writer.writerow(header)\n",
    "    writer.writerow(data)\n",
    "    "
   ]
  },
  {
   "cell_type": "code",
   "execution_count": 37,
   "id": "0819da56-6733-4d58-8acf-bfe617bfe702",
   "metadata": {},
   "outputs": [
    {
     "name": "stdout",
     "output_type": "stream",
     "text": [
      "               Title     Price\n",
      "0  LUX COFFE PREMIUM  1.799 TL\n"
     ]
    }
   ],
   "source": [
    "# Checking data in the csv file\n",
    "\n",
    "import pandas as pd\n",
    "\n",
    "df = pd.read_csv(r'C:\\Users\\HP\\Price.csv')\n",
    "\n",
    "print(df)\n"
   ]
  },
  {
   "cell_type": "code",
   "execution_count": 41,
   "id": "434f45cd-e11f-4b9a-bd6c-7381a80c764e",
   "metadata": {},
   "outputs": [],
   "source": [
    "#Appending data to the csv\n",
    "\n",
    "with open('Price.csv', 'a+', newline='', encoding='UTF8') as f:\n",
    "    writer = csv.writer(f)\n",
    "    writer.writerow(data)"
   ]
  },
  {
   "cell_type": "code",
   "execution_count": 43,
   "id": "27ae9e8f-7c78-4e74-bb9c-1e7ee66619b4",
   "metadata": {},
   "outputs": [],
   "source": [
    "# Defining function to automate all actions above\n",
    "\n",
    "\n",
    "def price_check():\n",
    "    \n",
    "    URL = 'https://www.trendyol.com/coffe/lux-coffe-premium-p-822138351?boutiqueId=61&merchantId=861428'\n",
    "\n",
    "    headers = {\"User-Agent\": \"Mozilla/5.0 (Windows NT 10.0; Win64; x64) AppleWebKit/537.36 (KHTML, like Gecko) Chrome/131.0.0.0 Safari/537.36 Edg/131.0.0.0\", \"Accept-Encoding\":\"gzip, deflate\", \"Accept\":\"text/html,application/xhtml+xml,application/xml;q=0.9,*/*;q=0.8\", \"DNT\":\"1\",\"Connection\":\"close\", \"Upgrade-Insecure-Requests\":\"1\"}\n",
    "\n",
    "    page = requests.get(URL, headers=headers)\n",
    "\n",
    "    object1 = BeautifulSoup(page.content, 'html.parser')\n",
    "\n",
    "    object2 = BeautifulSoup(object1.prettify(), \"html.parser\")\n",
    "\n",
    "\n",
    "    name = object2.find(id='product-detail-app')\n",
    "\n",
    "    title=name.find(class_='pr-new-br')\n",
    "\n",
    "    title=title.find_all('span')[1].text\n",
    "\n",
    "    price=name.find(class_='prc-dsc').text\n",
    "\n",
    "    price = price.strip()\n",
    "    title = title.strip()\n",
    "\n",
    "    import datetime\n",
    "\n",
    "    today = datetime.date.today()\n",
    "    \n",
    "    import csv \n",
    "\n",
    "    header = ['Title', 'Price']\n",
    "    data = [title, price]\n",
    "\n",
    "    with open('Price.csv', 'a+', newline='', encoding='UTF8') as f:\n",
    "        writer = csv.writer(f)\n",
    "        writer.writerow(data)"
   ]
  },
  {
   "cell_type": "code",
   "execution_count": null,
   "id": "224c09b4-d3e5-4889-8eb2-366a30edc3fe",
   "metadata": {},
   "outputs": [],
   "source": [
    "# Runs price_check after a set time and inputs data into CSV file\n",
    "\n",
    "while(True):\n",
    "    price_check()\n",
    "    time.sleep(86400)"
   ]
  },
  {
   "cell_type": "code",
   "execution_count": 52,
   "id": "fd734806-7c13-454e-961c-db4a0f272b69",
   "metadata": {},
   "outputs": [
    {
     "name": "stdout",
     "output_type": "stream",
     "text": [
      "                Title     Price\n",
      "0   LUX COFFE PREMIUM  1.799 TL\n",
      "1   LUX COFFE PREMIUM  1.799 TL\n",
      "2   LUX COFFE PREMIUM  1.799 TL\n",
      "3   LUX COFFE PREMIUM  1.799 TL\n",
      "4   LUX COFFE PREMIUM  1.799 TL\n",
      "..                ...       ...\n",
      "58  LUX COFFE PREMIUM  1.799 TL\n",
      "59  LUX COFFE PREMIUM  1.799 TL\n",
      "60  LUX COFFE PREMIUM  1.799 TL\n",
      "61  LUX COFFE PREMIUM  1.799 TL\n",
      "62  LUX COFFE PREMIUM  1.799 TL\n",
      "\n",
      "[63 rows x 2 columns]\n"
     ]
    }
   ],
   "source": [
    "df = pd.read_csv(r'C:\\Users\\HP\\Price.csv')\n",
    "print(df)"
   ]
  },
  {
   "cell_type": "code",
   "execution_count": null,
   "id": "40a43c21-fe5f-4977-bb5e-05b8c1c315ec",
   "metadata": {},
   "outputs": [],
   "source": []
  }
 ],
 "metadata": {
  "kernelspec": {
   "display_name": "Python 3 (ipykernel)",
   "language": "python",
   "name": "python3"
  },
  "language_info": {
   "codemirror_mode": {
    "name": "ipython",
    "version": 3
   },
   "file_extension": ".py",
   "mimetype": "text/x-python",
   "name": "python",
   "nbconvert_exporter": "python",
   "pygments_lexer": "ipython3",
   "version": "3.12.7"
  }
 },
 "nbformat": 4,
 "nbformat_minor": 5
}
